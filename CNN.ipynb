{
 "cells": [
  {
   "cell_type": "code",
   "execution_count": 1,
   "metadata": {},
   "outputs": [
    {
     "name": "stderr",
     "output_type": "stream",
     "text": [
      "Using TensorFlow backend.\n"
     ]
    }
   ],
   "source": [
    "import keras\n",
    "from keras.models import Sequential\n",
    "from keras.layers import Dense, Dropout, Flatten\n",
    "from keras.layers import Conv2D, MaxPooling2D, BatchNormalization\n",
    "from keras import backend as K\n",
    "import os\n",
    "from PIL import Image\n",
    "import numpy as np\n",
    "from sklearn.model_selection import train_test_split\n",
    "from sklearn.preprocessing import OneHotEncoder\n",
    "import matplotlib.pyplot as plt\n",
    "from matplotlib.pyplot import imshow\n",
    "from random import randrange\n",
    "\n",
    "import numpy as np\n",
    "import matplotlib.pyplot as plt\n",
    "from sklearn.metrics import accuracy_score\n",
    "\n",
    "from keras.callbacks import EarlyStopping\n",
    "from keras.optimizers import RMSprop"
   ]
  },
  {
   "cell_type": "code",
   "execution_count": 2,
   "metadata": {},
   "outputs": [],
   "source": [
    "def read_image_data():\n",
    "\tprint('Reading image data ...')\n",
    "\ttrain_x = np.load('../../Data/data_train.npy')\n",
    "\ttrain_y = np.load('../../Data/train_labels.npy')\n",
    "\ttest_x = np.load('../../Data/data_test.npy')\n",
    "\n",
    "\treturn (train_x, train_y, test_x)"
   ]
  },
  {
   "cell_type": "code",
   "execution_count": 3,
   "metadata": {},
   "outputs": [
    {
     "name": "stdout",
     "output_type": "stream",
     "text": [
      "Reading image data ...\n"
     ]
    }
   ],
   "source": [
    "train_x, train_y, test_x = read_image_data()"
   ]
  },
  {
   "cell_type": "code",
   "execution_count": 4,
   "metadata": {},
   "outputs": [],
   "source": [
    "train_x = train_x.reshape(len(train_x), 32,32,3)"
   ]
  },
  {
   "cell_type": "code",
   "execution_count": 5,
   "metadata": {},
   "outputs": [],
   "source": [
    "onehot = []\n",
    "for x in range(len(train_y)):\n",
    "    if(train_y[x] == 0):\n",
    "        onehot.append([1,0,0,0])\n",
    "    elif(train_y[x] == 1):\n",
    "        onehot.append([0,1,0,0])\n",
    "    elif(train_y[x] == 2):\n",
    "        onehot.append([0,0,1,0])\n",
    "    else:\n",
    "        onehot.append([0,0,0,1])"
   ]
  },
  {
   "cell_type": "code",
   "execution_count": 6,
   "metadata": {},
   "outputs": [
    {
     "data": {
      "text/plain": [
       "(20000, 4)"
      ]
     },
     "execution_count": 6,
     "metadata": {},
     "output_type": "execute_result"
    }
   ],
   "source": [
    "onehot = np.array(onehot)\n",
    "onehot.shape"
   ]
  },
  {
   "cell_type": "code",
   "execution_count": 7,
   "metadata": {},
   "outputs": [],
   "source": [
    "x_train,x_test,y_train,y_test = train_test_split(train_x, onehot, test_size=0.5, shuffle=True)"
   ]
  },
  {
   "cell_type": "code",
   "execution_count": 8,
   "metadata": {},
   "outputs": [],
   "source": [
    "# Configure the checkpoint :\n",
    "checkpoint = EarlyStopping(monitor='loss', min_delta=0.00001, patience=15, verbose=1, mode='auto', restore_best_weights=True)\n",
    "callbacks_list = [checkpoint]"
   ]
  },
  {
   "cell_type": "code",
   "execution_count": 13,
   "metadata": {},
   "outputs": [
    {
     "name": "stdout",
     "output_type": "stream",
     "text": [
      "Model: \"sequential_5\"\n",
      "_________________________________________________________________\n",
      "Layer (type)                 Output Shape              Param #   \n",
      "=================================================================\n",
      "conv2d_17 (Conv2D)           (None, 30, 30, 32)        896       \n",
      "_________________________________________________________________\n",
      "conv2d_18 (Conv2D)           (None, 28, 28, 32)        9248      \n",
      "_________________________________________________________________\n",
      "max_pooling2d_9 (MaxPooling2 (None, 14, 14, 32)        0         \n",
      "_________________________________________________________________\n",
      "dropout_13 (Dropout)         (None, 14, 14, 32)        0         \n",
      "_________________________________________________________________\n",
      "conv2d_19 (Conv2D)           (None, 13, 13, 64)        8256      \n",
      "_________________________________________________________________\n",
      "conv2d_20 (Conv2D)           (None, 12, 12, 64)        16448     \n",
      "_________________________________________________________________\n",
      "max_pooling2d_10 (MaxPooling (None, 6, 6, 64)          0         \n",
      "_________________________________________________________________\n",
      "dropout_14 (Dropout)         (None, 6, 6, 64)          0         \n",
      "_________________________________________________________________\n",
      "flatten_5 (Flatten)          (None, 2304)              0         \n",
      "_________________________________________________________________\n",
      "dense_9 (Dense)              (None, 512)               1180160   \n",
      "_________________________________________________________________\n",
      "dropout_15 (Dropout)         (None, 512)               0         \n",
      "_________________________________________________________________\n",
      "dense_10 (Dense)             (None, 4)                 2052      \n",
      "=================================================================\n",
      "Total params: 1,217,060\n",
      "Trainable params: 1,217,060\n",
      "Non-trainable params: 0\n",
      "_________________________________________________________________\n",
      "None\n"
     ]
    }
   ],
   "source": [
    "model = Sequential()\n",
    "model.add(Conv2D(filters = 32, kernel_size = (3,3), activation ='relu', input_shape = (32,32,3)))\n",
    "model.add(Conv2D(filters = 32, kernel_size = (3,3), activation ='relu'))\n",
    "model.add(MaxPooling2D(pool_size=(2,2)))\n",
    "model.add(Dropout(0.25))\n",
    "model.add(Conv2D(filters = 64, kernel_size = (2,2), activation ='relu'))\n",
    "model.add(Conv2D(filters = 64, kernel_size = (2,2), activation ='relu'))\n",
    "model.add(MaxPooling2D(pool_size=(2,2), strides=(2,2)))\n",
    "model.add(Dropout(0.25))\n",
    "model.add(Flatten())\n",
    "model.add(Dense(512, activation = \"relu\"))\n",
    "model.add(Dropout(0.5))\n",
    "model.add(Dense(4, activation = \"softmax\"))\n",
    "# Define the optimizer\n",
    "optimizer = RMSprop(lr=0.001, rho=0.9, epsilon=1e-08, decay=0.0)\n",
    "# Compile the model\n",
    "model.compile(optimizer = optimizer , loss = \"categorical_crossentropy\", metrics=[\"accuracy\"])\n",
    "print(model.summary())"
   ]
  },
  {
   "cell_type": "code",
   "execution_count": 14,
   "metadata": {
    "scrolled": true
   },
   "outputs": [
    {
     "name": "stdout",
     "output_type": "stream",
     "text": [
      "WARNING:tensorflow:From C:\\Users\\Vee\\Anaconda3\\lib\\site-packages\\keras\\backend\\tensorflow_backend.py:422: The name tf.global_variables is deprecated. Please use tf.compat.v1.global_variables instead.\n",
      "\n",
      "Epoch 1/2500\n",
      "20000/20000 [==============================] - 14s 704us/step - loss: 1.3181 - accuracy: 0.3906\n",
      "Epoch 2/2500\n",
      "20000/20000 [==============================] - 14s 690us/step - loss: 1.1063 - accuracy: 0.5167\n",
      "Epoch 3/2500\n",
      "20000/20000 [==============================] - 14s 696us/step - loss: 1.0305 - accuracy: 0.5618\n",
      "Epoch 4/2500\n",
      "20000/20000 [==============================] - 15s 737us/step - loss: 0.9231 - accuracy: 0.6184\n",
      "Epoch 5/2500\n",
      "20000/20000 [==============================] - 15s 725us/step - loss: 0.8754 - accuracy: 0.6486\n",
      "Epoch 6/2500\n",
      "20000/20000 [==============================] - 15s 736us/step - loss: 0.7716 - accuracy: 0.6941\n",
      "Epoch 7/2500\n",
      "20000/20000 [==============================] - 14s 717us/step - loss: 0.7254 - accuracy: 0.7146\n",
      "Epoch 8/2500\n",
      "20000/20000 [==============================] - 14s 711us/step - loss: 0.6668 - accuracy: 0.7434\n",
      "Epoch 9/2500\n",
      "20000/20000 [==============================] - 14s 691us/step - loss: 0.6245 - accuracy: 0.7610\n",
      "Epoch 10/2500\n",
      "20000/20000 [==============================] - 14s 706us/step - loss: 0.5761 - accuracy: 0.7801\n",
      "Epoch 11/2500\n",
      "20000/20000 [==============================] - 14s 698us/step - loss: 0.5471 - accuracy: 0.7923\n",
      "Epoch 12/2500\n",
      "20000/20000 [==============================] - 14s 683us/step - loss: 0.5169 - accuracy: 0.8054\n",
      "Epoch 13/2500\n",
      "20000/20000 [==============================] - 14s 682us/step - loss: 0.4954 - accuracy: 0.8127\n",
      "Epoch 14/2500\n",
      "20000/20000 [==============================] - 14s 690us/step - loss: 0.4627 - accuracy: 0.8274\n",
      "Epoch 15/2500\n",
      "20000/20000 [==============================] - 14s 683us/step - loss: 0.4389 - accuracy: 0.8359\n",
      "Epoch 16/2500\n",
      "20000/20000 [==============================] - 14s 692us/step - loss: 0.4053 - accuracy: 0.8497\n",
      "Epoch 17/2500\n",
      "20000/20000 [==============================] - 14s 687us/step - loss: 0.4018 - accuracy: 0.8497\n",
      "Epoch 18/2500\n",
      "20000/20000 [==============================] - 14s 683us/step - loss: 0.3811 - accuracy: 0.8584\n",
      "Epoch 19/2500\n",
      "20000/20000 [==============================] - 14s 690us/step - loss: 0.3730 - accuracy: 0.8611\n",
      "Epoch 20/2500\n",
      "20000/20000 [==============================] - 14s 686us/step - loss: 0.3466 - accuracy: 0.8722\n",
      "Epoch 21/2500\n",
      "20000/20000 [==============================] - 14s 684us/step - loss: 0.3277 - accuracy: 0.8792\n",
      "Epoch 22/2500\n",
      "20000/20000 [==============================] - 14s 684us/step - loss: 0.3162 - accuracy: 0.8820\n",
      "Epoch 23/2500\n",
      "20000/20000 [==============================] - 14s 685us/step - loss: 0.2976 - accuracy: 0.8910\n",
      "Epoch 24/2500\n",
      "20000/20000 [==============================] - 14s 684us/step - loss: 0.2730 - accuracy: 0.8986\n",
      "Epoch 25/2500\n",
      "20000/20000 [==============================] - 14s 685us/step - loss: 0.2816 - accuracy: 0.8977\n",
      "Epoch 26/2500\n",
      "20000/20000 [==============================] - 14s 680us/step - loss: 0.2573 - accuracy: 0.9061\n",
      "Epoch 27/2500\n",
      "20000/20000 [==============================] - 14s 682us/step - loss: 0.2385 - accuracy: 0.9143\n",
      "Epoch 28/2500\n",
      "20000/20000 [==============================] - 14s 685us/step - loss: 0.2383 - accuracy: 0.9122\n",
      "Epoch 29/2500\n",
      "20000/20000 [==============================] - 14s 685us/step - loss: 0.2285 - accuracy: 0.9177\n",
      "Epoch 30/2500\n",
      "20000/20000 [==============================] - 14s 684us/step - loss: 0.2152 - accuracy: 0.9203\n",
      "Epoch 31/2500\n",
      "20000/20000 [==============================] - 14s 684us/step - loss: 0.1918 - accuracy: 0.9293\n",
      "Epoch 32/2500\n",
      "20000/20000 [==============================] - 14s 682us/step - loss: 0.1959 - accuracy: 0.9290\n",
      "Epoch 33/2500\n",
      "20000/20000 [==============================] - 14s 682us/step - loss: 0.1859 - accuracy: 0.9329\n",
      "Epoch 34/2500\n",
      "20000/20000 [==============================] - 14s 683us/step - loss: 0.1762 - accuracy: 0.9354\n",
      "Epoch 35/2500\n",
      "20000/20000 [==============================] - 14s 683us/step - loss: 0.1568 - accuracy: 0.9440\n",
      "Epoch 36/2500\n",
      "20000/20000 [==============================] - 14s 684us/step - loss: 0.1667 - accuracy: 0.9398\n",
      "Epoch 37/2500\n",
      "20000/20000 [==============================] - 14s 684us/step - loss: 0.1477 - accuracy: 0.9441\n",
      "Epoch 38/2500\n",
      "20000/20000 [==============================] - 14s 686us/step - loss: 0.1420 - accuracy: 0.9480\n",
      "Epoch 39/2500\n",
      "20000/20000 [==============================] - 14s 683us/step - loss: 0.1343 - accuracy: 0.9517\n",
      "Epoch 40/2500\n",
      "20000/20000 [==============================] - 14s 682us/step - loss: 0.1337 - accuracy: 0.9523\n",
      "Epoch 41/2500\n",
      "20000/20000 [==============================] - 14s 688us/step - loss: 0.1179 - accuracy: 0.9578\n",
      "Epoch 42/2500\n",
      "20000/20000 [==============================] - 14s 684us/step - loss: 0.1147 - accuracy: 0.9571\n",
      "Epoch 43/2500\n",
      "20000/20000 [==============================] - 14s 684us/step - loss: 0.1140 - accuracy: 0.9597\n",
      "Epoch 44/2500\n",
      "20000/20000 [==============================] - 14s 684us/step - loss: 0.1106 - accuracy: 0.9602\n",
      "Epoch 45/2500\n",
      "20000/20000 [==============================] - 14s 686us/step - loss: 0.1053 - accuracy: 0.9628\n",
      "Epoch 46/2500\n",
      "20000/20000 [==============================] - 14s 684us/step - loss: 0.1046 - accuracy: 0.9622\n",
      "Epoch 47/2500\n",
      "20000/20000 [==============================] - 14s 683us/step - loss: 0.0914 - accuracy: 0.9671\n",
      "Epoch 48/2500\n",
      "20000/20000 [==============================] - 14s 682us/step - loss: 0.0918 - accuracy: 0.9675\n",
      "Epoch 49/2500\n",
      "20000/20000 [==============================] - 14s 684us/step - loss: 0.0898 - accuracy: 0.9679\n",
      "Epoch 50/2500\n",
      "20000/20000 [==============================] - 14s 684us/step - loss: 0.0867 - accuracy: 0.9681\n",
      "Epoch 51/2500\n",
      "20000/20000 [==============================] - 14s 684us/step - loss: 0.0810 - accuracy: 0.9713\n",
      "Epoch 52/2500\n",
      "20000/20000 [==============================] - 14s 685us/step - loss: 0.0897 - accuracy: 0.9690\n",
      "Epoch 53/2500\n",
      "20000/20000 [==============================] - 14s 684us/step - loss: 0.0788 - accuracy: 0.9712\n",
      "Epoch 54/2500\n",
      "20000/20000 [==============================] - 14s 681us/step - loss: 0.0741 - accuracy: 0.9747\n",
      "Epoch 55/2500\n",
      "20000/20000 [==============================] - 14s 683us/step - loss: 0.0776 - accuracy: 0.9732\n",
      "Epoch 56/2500\n",
      "20000/20000 [==============================] - 14s 682us/step - loss: 0.0761 - accuracy: 0.9724\n",
      "Epoch 57/2500\n",
      "20000/20000 [==============================] - 14s 701us/step - loss: 0.0644 - accuracy: 0.9768\n",
      "Epoch 58/2500\n",
      "20000/20000 [==============================] - 14s 684us/step - loss: 0.0675 - accuracy: 0.9768\n",
      "Epoch 59/2500\n",
      "20000/20000 [==============================] - 14s 685us/step - loss: 0.0744 - accuracy: 0.9741\n",
      "Epoch 60/2500\n",
      "20000/20000 [==============================] - 14s 683us/step - loss: 0.0646 - accuracy: 0.9760\n",
      "Epoch 61/2500\n",
      "20000/20000 [==============================] - 14s 681us/step - loss: 0.0627 - accuracy: 0.9776\n",
      "Epoch 62/2500\n",
      "20000/20000 [==============================] - 14s 683us/step - loss: 0.0611 - accuracy: 0.9783\n",
      "Epoch 63/2500\n",
      "20000/20000 [==============================] - 14s 685us/step - loss: 0.0663 - accuracy: 0.9763\n",
      "Epoch 64/2500\n",
      "20000/20000 [==============================] - 14s 685us/step - loss: 0.0647 - accuracy: 0.9768\n",
      "Epoch 65/2500\n",
      "20000/20000 [==============================] - 14s 684us/step - loss: 0.0672 - accuracy: 0.9786\n",
      "Epoch 66/2500\n",
      "20000/20000 [==============================] - 14s 696us/step - loss: 0.0563 - accuracy: 0.9812\n",
      "Epoch 67/2500\n",
      "20000/20000 [==============================] - 14s 683us/step - loss: 0.0574 - accuracy: 0.9800\n",
      "Epoch 68/2500\n",
      "20000/20000 [==============================] - 14s 699us/step - loss: 0.0566 - accuracy: 0.9808\n",
      "Epoch 69/2500\n",
      "20000/20000 [==============================] - 14s 687us/step - loss: 0.0558 - accuracy: 0.9811\n",
      "Epoch 70/2500\n",
      "20000/20000 [==============================] - 14s 684us/step - loss: 0.0585 - accuracy: 0.9800\n",
      "Epoch 71/2500\n",
      "20000/20000 [==============================] - 14s 686us/step - loss: 0.0617 - accuracy: 0.9784\n",
      "Epoch 72/2500\n",
      "20000/20000 [==============================] - 14s 684us/step - loss: 0.0536 - accuracy: 0.9814\n",
      "Epoch 73/2500\n"
     ]
    },
    {
     "name": "stdout",
     "output_type": "stream",
     "text": [
      "20000/20000 [==============================] - 14s 683us/step - loss: 0.0525 - accuracy: 0.9816\n",
      "Epoch 74/2500\n",
      "20000/20000 [==============================] - 14s 687us/step - loss: 0.0544 - accuracy: 0.9815\n",
      "Epoch 75/2500\n",
      "20000/20000 [==============================] - 14s 681us/step - loss: 0.0517 - accuracy: 0.9816\n",
      "Epoch 76/2500\n",
      "20000/20000 [==============================] - 14s 682us/step - loss: 0.0556 - accuracy: 0.9805\n",
      "Epoch 77/2500\n",
      "20000/20000 [==============================] - 14s 682us/step - loss: 0.0550 - accuracy: 0.9818\n",
      "Epoch 78/2500\n",
      "20000/20000 [==============================] - 14s 682us/step - loss: 0.0522 - accuracy: 0.9818\n",
      "Epoch 79/2500\n",
      "20000/20000 [==============================] - 14s 683us/step - loss: 0.0548 - accuracy: 0.9824\n",
      "Epoch 80/2500\n",
      "20000/20000 [==============================] - 14s 683us/step - loss: 0.0447 - accuracy: 0.9847\n",
      "Epoch 81/2500\n",
      "20000/20000 [==============================] - 14s 683us/step - loss: 0.0585 - accuracy: 0.9797\n",
      "Epoch 82/2500\n",
      "20000/20000 [==============================] - 14s 680us/step - loss: 0.0472 - accuracy: 0.9837\n",
      "Epoch 83/2500\n",
      "20000/20000 [==============================] - 14s 682us/step - loss: 0.0526 - accuracy: 0.9823\n",
      "Epoch 84/2500\n",
      "20000/20000 [==============================] - 14s 683us/step - loss: 0.0518 - accuracy: 0.9826\n",
      "Epoch 85/2500\n",
      "20000/20000 [==============================] - 14s 683us/step - loss: 0.0495 - accuracy: 0.9839\n",
      "Epoch 86/2500\n",
      "20000/20000 [==============================] - 14s 683us/step - loss: 0.0522 - accuracy: 0.9820\n",
      "Epoch 87/2500\n",
      "20000/20000 [==============================] - 14s 682us/step - loss: 0.0476 - accuracy: 0.9837\n",
      "Epoch 88/2500\n",
      "20000/20000 [==============================] - 14s 683us/step - loss: 0.0509 - accuracy: 0.9823\n",
      "Epoch 89/2500\n",
      "20000/20000 [==============================] - 14s 680us/step - loss: 0.0465 - accuracy: 0.9838\n",
      "Epoch 90/2500\n",
      "20000/20000 [==============================] - 14s 682us/step - loss: 0.0455 - accuracy: 0.9852\n",
      "Epoch 91/2500\n",
      "20000/20000 [==============================] - 14s 682us/step - loss: 0.0482 - accuracy: 0.9836\n",
      "Epoch 92/2500\n",
      "20000/20000 [==============================] - 14s 683us/step - loss: 0.0499 - accuracy: 0.9836\n",
      "Epoch 93/2500\n",
      "20000/20000 [==============================] - 14s 682us/step - loss: 0.0480 - accuracy: 0.9838\n",
      "Epoch 94/2500\n",
      "20000/20000 [==============================] - 14s 682us/step - loss: 0.0462 - accuracy: 0.9842\n",
      "Epoch 95/2500\n",
      "20000/20000 [==============================] - 14s 682us/step - loss: 0.0504 - accuracy: 0.9837\n",
      "Restoring model weights from the end of the best epoch\n",
      "Epoch 00095: early stopping\n"
     ]
    }
   ],
   "source": [
    "history = model.fit(train_x, onehot, epochs=2500, batch_size=500, verbose=1,callbacks=callbacks_list)"
   ]
  },
  {
   "cell_type": "code",
   "execution_count": 15,
   "metadata": {},
   "outputs": [
    {
     "data": {
      "image/png": "[encoded data removed]",
      "text/plain": [
       "<Figure size 432x288 with 1 Axes>"
      ]
     },
     "metadata": {
      "needs_background": "light"
     },
     "output_type": "display_data"
    }
   ],
   "source": [
    "# Plot training & validation loss values\n",
    "plt.plot(history.history['loss'])\n",
    "plt.title('Model Loss')\n",
    "plt.ylabel('Loss')\n",
    "plt.xlabel('Epoch')\n",
    "plt.legend(['Training', 'Validation'], loc='upper right')\n",
    "plt.show()"
   ]
  },
  {
   "cell_type": "markdown",
   "metadata": {},
   "source": [
    "# Training Prediction"
   ]
  },
  {
   "cell_type": "code",
   "execution_count": 16,
   "metadata": {},
   "outputs": [],
   "source": [
    "predict = model.predict(train_x)"
   ]
  },
  {
   "cell_type": "code",
   "execution_count": 17,
   "metadata": {},
   "outputs": [
    {
     "data": {
      "text/plain": [
       "(20000, 4)"
      ]
     },
     "execution_count": 17,
     "metadata": {},
     "output_type": "execute_result"
    }
   ],
   "source": [
    "predict.shape"
   ]
  },
  {
   "cell_type": "code",
   "execution_count": 18,
   "metadata": {},
   "outputs": [],
   "source": [
    "submission = []\n",
    "for i in range(len(predict)):\n",
    "    submission.append(np.where(predict[i] == np.amax(predict[i]))[0][0])"
   ]
  },
  {
   "cell_type": "code",
   "execution_count": 19,
   "metadata": {},
   "outputs": [
    {
     "data": {
      "text/plain": [
       "0.9999"
      ]
     },
     "execution_count": 19,
     "metadata": {},
     "output_type": "execute_result"
    }
   ],
   "source": [
    "accuracy_score(train_y,submission)"
   ]
  },
  {
   "cell_type": "markdown",
   "metadata": {},
   "source": [
    "# Testing Prediction and Submission"
   ]
  },
  {
   "cell_type": "code",
   "execution_count": 20,
   "metadata": {},
   "outputs": [],
   "source": [
    "import csv\n",
    "def kaggleize(predictions,file):\n",
    "\n",
    "\tif(len(predictions.shape)==1):\n",
    "\t\tpredictions.shape = [predictions.shape[0],1]\n",
    "\n",
    "\tids = 1 + np.arange(predictions.shape[0])[None].T\n",
    "\tkaggle_predictions = np.hstack((ids,predictions)).astype(int)\n",
    "\twriter = csv.writer(open(file, 'w'))\n",
    "\twriter.writerow(['# id','Prediction'])\n",
    "\twriter.writerows(kaggle_predictions)"
   ]
  },
  {
   "cell_type": "code",
   "execution_count": 21,
   "metadata": {},
   "outputs": [],
   "source": [
    "test_x = test_x.reshape(len(test_x), 32,32,3)"
   ]
  },
  {
   "cell_type": "code",
   "execution_count": 22,
   "metadata": {},
   "outputs": [],
   "source": [
    "predict = model.predict(test_x)"
   ]
  },
  {
   "cell_type": "code",
   "execution_count": 23,
   "metadata": {},
   "outputs": [
    {
     "data": {
      "text/plain": [
       "(4000,)"
      ]
     },
     "execution_count": 23,
     "metadata": {},
     "output_type": "execute_result"
    }
   ],
   "source": [
    "submission = []\n",
    "for i in range(len(predict)):\n",
    "    submission.append(np.where(predict[i] == np.amax(predict[i]))[0][0])\n",
    "submission = np.array(submission)\n",
    "submission.shape"
   ]
  },
  {
   "cell_type": "code",
   "execution_count": 24,
   "metadata": {},
   "outputs": [],
   "source": [
    "kaggleize(submission,'submission.csv')"
   ]
  },
  {
   "cell_type": "markdown",
   "metadata": {},
   "source": [
    "# Save Model"
   ]
  },
  {
   "cell_type": "code",
   "execution_count": 25,
   "metadata": {},
   "outputs": [],
   "source": [
    "model.save('CNN.h5')"
   ]
  }
 ],
 "metadata": {
  "kernelspec": {
   "display_name": "Python 3",
   "language": "python",
   "name": "python3"
  },
  "language_info": {
   "codemirror_mode": {
    "name": "ipython",
    "version": 3
   },
   "file_extension": ".py",
   "mimetype": "text/x-python",
   "name": "python",
   "nbconvert_exporter": "python",
   "pygments_lexer": "ipython3",
   "version": "3.7.4"
  }
 },
 "nbformat": 4,
 "nbformat_minor": 2
}
