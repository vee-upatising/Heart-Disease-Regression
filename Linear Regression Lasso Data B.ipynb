{
 "cells": [
  {
   "cell_type": "code",
   "execution_count": 1,
   "metadata": {},
   "outputs": [],
   "source": [
    "import numpy as np\n",
    "import sklearn\n",
    "from sklearn.linear_model import Lasso\n",
    "from sklearn.model_selection import KFold"
   ]
  },
  {
   "cell_type": "code",
   "execution_count": 2,
   "metadata": {},
   "outputs": [],
   "source": [
    "data = np.load(r'C:\\Users\\Vee\\Desktop\\HW01\\HW01\\Data\\dataB\\train.npy')"
   ]
  },
  {
   "cell_type": "code",
   "execution_count": 3,
   "metadata": {},
   "outputs": [
    {
     "data": {
      "text/plain": [
       "(5482, 8)"
      ]
     },
     "execution_count": 3,
     "metadata": {},
     "output_type": "execute_result"
    }
   ],
   "source": [
    "data.shape"
   ]
  },
  {
   "cell_type": "code",
   "execution_count": 4,
   "metadata": {},
   "outputs": [],
   "source": [
    "x = data[:,:7]"
   ]
  },
  {
   "cell_type": "code",
   "execution_count": 5,
   "metadata": {},
   "outputs": [
    {
     "data": {
      "text/plain": [
       "(5482, 7)"
      ]
     },
     "execution_count": 5,
     "metadata": {},
     "output_type": "execute_result"
    }
   ],
   "source": [
    "x.shape"
   ]
  },
  {
   "cell_type": "code",
   "execution_count": 6,
   "metadata": {},
   "outputs": [],
   "source": [
    "y = data[:,7:]"
   ]
  },
  {
   "cell_type": "code",
   "execution_count": 7,
   "metadata": {},
   "outputs": [
    {
     "data": {
      "text/plain": [
       "(5482, 1)"
      ]
     },
     "execution_count": 7,
     "metadata": {},
     "output_type": "execute_result"
    }
   ],
   "source": [
    "y.shape"
   ]
  },
  {
   "cell_type": "code",
   "execution_count": 8,
   "metadata": {},
   "outputs": [],
   "source": [
    "regr_1 = Lasso(alpha=0.001)"
   ]
  },
  {
   "cell_type": "code",
   "execution_count": 9,
   "metadata": {},
   "outputs": [],
   "source": [
    "kf = KFold(n_splits=5)"
   ]
  },
  {
   "cell_type": "code",
   "execution_count": 10,
   "metadata": {},
   "outputs": [],
   "source": [
    "models = []"
   ]
  },
  {
   "cell_type": "code",
   "execution_count": 11,
   "metadata": {},
   "outputs": [],
   "source": [
    "MAE = []\n",
    "#K-Fold Cross Validation\n",
    "for train_index, test_index in kf.split(x):\n",
    "    x_train, x_test = x[train_index], x[test_index]\n",
    "    y_train, y_test = y[train_index], y[test_index]\n",
    "    #Fit model on each fold\n",
    "    regr_1.fit(x_train, y_train)\n",
    "    #Predict on testing fold\n",
    "    predict = regr_1.predict(x_test)\n",
    "    predict = predict.reshape(len(predict),1)\n",
    "    #Mean Absolute Error between prediction and true value for each K-Fold Validation\n",
    "    MAE.append(np.sum(abs(y_test - predict))/len(y_test))"
   ]
  },
  {
   "cell_type": "code",
   "execution_count": 12,
   "metadata": {},
   "outputs": [
    {
     "name": "stdout",
     "output_type": "stream",
     "text": [
      "58.1913393062405\n"
     ]
    }
   ],
   "source": [
    "models.append(np.sum(MAE)/len(MAE))\n",
    "print(np.sum(MAE)/len(MAE))"
   ]
  },
  {
   "cell_type": "code",
   "execution_count": 13,
   "metadata": {},
   "outputs": [],
   "source": [
    "regr_2 = Lasso(alpha=0.1)"
   ]
  },
  {
   "cell_type": "code",
   "execution_count": 14,
   "metadata": {},
   "outputs": [],
   "source": [
    "MAE = []\n",
    "#K-Fold Cross Validation\n",
    "for train_index, test_index in kf.split(x):\n",
    "    x_train, x_test = x[train_index], x[test_index]\n",
    "    y_train, y_test = y[train_index], y[test_index]\n",
    "    #Fit model on each fold\n",
    "    regr_2.fit(x_train, y_train)\n",
    "    #Predict on testing fold\n",
    "    predict = regr_2.predict(x_test)\n",
    "    predict = predict.reshape(len(predict),1)\n",
    "    #Mean Absolute Error between prediction and true value for each K-Fold Validation\n",
    "    MAE.append(np.sum(abs(y_test - predict))/len(y_test))"
   ]
  },
  {
   "cell_type": "code",
   "execution_count": 15,
   "metadata": {},
   "outputs": [
    {
     "name": "stdout",
     "output_type": "stream",
     "text": [
      "58.16313897483043\n"
     ]
    }
   ],
   "source": [
    "models.append(np.sum(MAE)/len(MAE))\n",
    "print(np.sum(MAE)/len(MAE))"
   ]
  },
  {
   "cell_type": "code",
   "execution_count": 16,
   "metadata": {},
   "outputs": [],
   "source": [
    "regr_3 = Lasso(alpha=1)"
   ]
  },
  {
   "cell_type": "code",
   "execution_count": 17,
   "metadata": {},
   "outputs": [],
   "source": [
    "MAE = []\n",
    "#K-Fold Cross Validation\n",
    "for train_index, test_index in kf.split(x):\n",
    "    x_train, x_test = x[train_index], x[test_index]\n",
    "    y_train, y_test = y[train_index], y[test_index]\n",
    "    #Fit model on each fold\n",
    "    regr_3.fit(x_train, y_train)\n",
    "    #Predict on testing fold\n",
    "    predict = regr_3.predict(x_test)\n",
    "    predict = predict.reshape(len(predict),1)\n",
    "    #Mean Absolute Error between prediction and true value for each K-Fold Validation\n",
    "    MAE.append(np.sum(abs(y_test - predict))/len(y_test))"
   ]
  },
  {
   "cell_type": "code",
   "execution_count": 18,
   "metadata": {},
   "outputs": [
    {
     "name": "stdout",
     "output_type": "stream",
     "text": [
      "57.96612905202803\n"
     ]
    }
   ],
   "source": [
    "models.append(np.sum(MAE)/len(MAE))\n",
    "print(np.sum(MAE)/len(MAE))"
   ]
  },
  {
   "cell_type": "code",
   "execution_count": 19,
   "metadata": {},
   "outputs": [],
   "source": [
    "regr_4 = Lasso(alpha=10)"
   ]
  },
  {
   "cell_type": "code",
   "execution_count": 20,
   "metadata": {},
   "outputs": [],
   "source": [
    "MAE = []\n",
    "#K-Fold Cross Validation\n",
    "for train_index, test_index in kf.split(x):\n",
    "    x_train, x_test = x[train_index], x[test_index]\n",
    "    y_train, y_test = y[train_index], y[test_index]\n",
    "    #Fit model on each fold\n",
    "    regr_4.fit(x_train, y_train)\n",
    "    #Predict on testing fold\n",
    "    predict = regr_4.predict(x_test)\n",
    "    predict = predict.reshape(len(predict),1)\n",
    "    #Mean Absolute Error between prediction and true value for each K-Fold Validation\n",
    "    MAE.append(np.sum(abs(y_test - predict))/len(y_test))"
   ]
  },
  {
   "cell_type": "code",
   "execution_count": 21,
   "metadata": {},
   "outputs": [
    {
     "name": "stdout",
     "output_type": "stream",
     "text": [
      "58.558942048444656\n"
     ]
    }
   ],
   "source": [
    "models.append(np.sum(MAE)/len(MAE))\n",
    "print(np.sum(MAE)/len(MAE))"
   ]
  },
  {
   "cell_type": "code",
   "execution_count": 22,
   "metadata": {},
   "outputs": [
    {
     "data": {
      "text/plain": [
       "[58.1913393062405, 58.16313897483043, 57.96612905202803, 58.558942048444656]"
      ]
     },
     "execution_count": 22,
     "metadata": {},
     "output_type": "execute_result"
    }
   ],
   "source": [
    "models"
   ]
  },
  {
   "cell_type": "code",
   "execution_count": 23,
   "metadata": {},
   "outputs": [],
   "source": [
    "final = Lasso(alpha=0.1)"
   ]
  },
  {
   "cell_type": "code",
   "execution_count": 24,
   "metadata": {},
   "outputs": [
    {
     "data": {
      "text/plain": [
       "Lasso(alpha=0.1, copy_X=True, fit_intercept=True, max_iter=1000,\n",
       "      normalize=False, positive=False, precompute=False, random_state=None,\n",
       "      selection='cyclic', tol=0.0001, warm_start=False)"
      ]
     },
     "execution_count": 24,
     "metadata": {},
     "output_type": "execute_result"
    }
   ],
   "source": [
    "final.fit(x, y)"
   ]
  },
  {
   "cell_type": "code",
   "execution_count": 30,
   "metadata": {},
   "outputs": [],
   "source": [
    "y_1 = final.predict(x)\n",
    "y_1 = y_1.reshape(len(y_1),1)"
   ]
  },
  {
   "cell_type": "code",
   "execution_count": 31,
   "metadata": {},
   "outputs": [
    {
     "data": {
      "text/plain": [
       "58.058938059291705"
      ]
     },
     "execution_count": 31,
     "metadata": {},
     "output_type": "execute_result"
    }
   ],
   "source": [
    "np.sum(abs(y - y_1))/len(y)"
   ]
  },
  {
   "cell_type": "code",
   "execution_count": 27,
   "metadata": {},
   "outputs": [],
   "source": [
    "data = np.load(r'C:\\Users\\Vee\\Desktop\\HW01\\HW01\\Data\\dataB\\test.npy')\n",
    "submission = final.predict(data)\n",
    "submission = submission.reshape(len(submission),1)"
   ]
  },
  {
   "cell_type": "code",
   "execution_count": 29,
   "metadata": {},
   "outputs": [],
   "source": [
    "import csv\n",
    "ids = 1. + np.arange(submission.shape[0])[None].T\n",
    "kaggle_predictions = np.hstack((ids,submission))\n",
    "writer = csv.writer(open('submission.csv', 'w'))\n",
    "if submission.shape[1] == 1:\n",
    "    writer.writerow(['# id','Prediction'])\n",
    "elif submission.shape[1] == 2:\n",
    "    writer.writerow(['# id','Prediction1', 'Prediction2'])\n",
    "writer.writerows(kaggle_predictions)"
   ]
  }
 ],
 "metadata": {
  "kernelspec": {
   "display_name": "Python 3",
   "language": "python",
   "name": "python3"
  },
  "language_info": {
   "codemirror_mode": {
    "name": "ipython",
    "version": 3
   },
   "file_extension": ".py",
   "mimetype": "text/x-python",
   "name": "python",
   "nbconvert_exporter": "python",
   "pygments_lexer": "ipython3",
   "version": "3.7.3"
  }
 },
 "nbformat": 4,
 "nbformat_minor": 2
}
