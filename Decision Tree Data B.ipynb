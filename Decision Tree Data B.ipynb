{
 "cells": [
  {
   "cell_type": "code",
   "execution_count": 72,
   "metadata": {},
   "outputs": [],
   "source": [
    "import numpy as np\n",
    "import sklearn\n",
    "from sklearn.tree import DecisionTreeRegressor\n",
    "from sklearn.model_selection import KFold\n",
    "import time"
   ]
  },
  {
   "cell_type": "code",
   "execution_count": 73,
   "metadata": {},
   "outputs": [],
   "source": [
    "data = np.load(r'C:\\Users\\Vee\\Desktop\\HW01\\HW01\\Data\\dataB\\train.npy')"
   ]
  },
  {
   "cell_type": "code",
   "execution_count": 74,
   "metadata": {},
   "outputs": [
    {
     "data": {
      "text/plain": [
       "(5482, 8)"
      ]
     },
     "execution_count": 74,
     "metadata": {},
     "output_type": "execute_result"
    }
   ],
   "source": [
    "data.shape"
   ]
  },
  {
   "cell_type": "code",
   "execution_count": 75,
   "metadata": {},
   "outputs": [],
   "source": [
    "x = data[:,:7]"
   ]
  },
  {
   "cell_type": "code",
   "execution_count": 76,
   "metadata": {},
   "outputs": [
    {
     "data": {
      "text/plain": [
       "(5482, 7)"
      ]
     },
     "execution_count": 76,
     "metadata": {},
     "output_type": "execute_result"
    }
   ],
   "source": [
    "x.shape"
   ]
  },
  {
   "cell_type": "code",
   "execution_count": 77,
   "metadata": {},
   "outputs": [],
   "source": [
    "y = data[:,7:]"
   ]
  },
  {
   "cell_type": "code",
   "execution_count": 78,
   "metadata": {},
   "outputs": [
    {
     "data": {
      "text/plain": [
       "(5482, 1)"
      ]
     },
     "execution_count": 78,
     "metadata": {},
     "output_type": "execute_result"
    }
   ],
   "source": [
    "y.shape"
   ]
  },
  {
   "cell_type": "code",
   "execution_count": 79,
   "metadata": {},
   "outputs": [],
   "source": [
    "regr_1 = DecisionTreeRegressor(max_depth=20)"
   ]
  },
  {
   "cell_type": "code",
   "execution_count": 80,
   "metadata": {},
   "outputs": [],
   "source": [
    "kf = KFold(n_splits=5)"
   ]
  },
  {
   "cell_type": "code",
   "execution_count": 81,
   "metadata": {},
   "outputs": [],
   "source": [
    "times = []\n",
    "models = []"
   ]
  },
  {
   "cell_type": "code",
   "execution_count": 82,
   "metadata": {},
   "outputs": [],
   "source": [
    "MAE = []\n",
    "start_time = time.time()\n",
    "#K-Fold Cross Validation\n",
    "for train_index, test_index in kf.split(x):\n",
    "    x_train, x_test = x[train_index], x[test_index]\n",
    "    y_train, y_test = y[train_index], y[test_index]\n",
    "    #Fit model on each fold\n",
    "    regr_1.fit(x_train, y_train)\n",
    "    #Predict on testing fold\n",
    "    predict = regr_1.predict(x_test)\n",
    "    predict = predict.reshape(len(predict),1)\n",
    "    #Mean Absolute Error between prediction and true value for each K-Fold Validation\n",
    "    MAE.append(np.sum(abs(y_test - predict))/len(y_test))\n",
    "elapsed_time = time.time() - start_time"
   ]
  },
  {
   "cell_type": "code",
   "execution_count": 83,
   "metadata": {},
   "outputs": [
    {
     "name": "stdout",
     "output_type": "stream",
     "text": [
      "70.16195426731397\n"
     ]
    }
   ],
   "source": [
    "models.append(np.sum(MAE)/len(MAE))\n",
    "print(np.sum(MAE)/len(MAE))"
   ]
  },
  {
   "cell_type": "code",
   "execution_count": 84,
   "metadata": {},
   "outputs": [
    {
     "name": "stdout",
     "output_type": "stream",
     "text": [
      "0.14862537384033203\n"
     ]
    }
   ],
   "source": [
    "times.append(elapsed_time)\n",
    "print(elapsed_time)"
   ]
  },
  {
   "cell_type": "code",
   "execution_count": 85,
   "metadata": {},
   "outputs": [],
   "source": [
    "regr_2 = DecisionTreeRegressor(max_depth=25)"
   ]
  },
  {
   "cell_type": "code",
   "execution_count": 86,
   "metadata": {},
   "outputs": [],
   "source": [
    "MAE = []\n",
    "start_time = time.time()\n",
    "#K-Fold Cross Validation\n",
    "for train_index, test_index in kf.split(x):\n",
    "    x_train, x_test = x[train_index], x[test_index]\n",
    "    y_train, y_test = y[train_index], y[test_index]\n",
    "    #Fit model on each fold\n",
    "    regr_2.fit(x_train, y_train)\n",
    "    #Predict on testing fold\n",
    "    predict = regr_2.predict(x_test)\n",
    "    predict = predict.reshape(len(predict),1)\n",
    "    #Mean Absolute Error between prediction and true value for each K-Fold Validation\n",
    "    MAE.append(np.sum(abs(y_test - predict))/len(y_test))\n",
    "elapsed_time = time.time() - start_time"
   ]
  },
  {
   "cell_type": "code",
   "execution_count": 87,
   "metadata": {},
   "outputs": [
    {
     "name": "stdout",
     "output_type": "stream",
     "text": [
      "71.42385314523035\n"
     ]
    }
   ],
   "source": [
    "models.append(np.sum(MAE)/len(MAE))\n",
    "print(np.sum(MAE)/len(MAE))"
   ]
  },
  {
   "cell_type": "code",
   "execution_count": 88,
   "metadata": {},
   "outputs": [
    {
     "name": "stdout",
     "output_type": "stream",
     "text": [
      "0.15857815742492676\n"
     ]
    }
   ],
   "source": [
    "times.append(elapsed_time)\n",
    "print(elapsed_time)"
   ]
  },
  {
   "cell_type": "code",
   "execution_count": 89,
   "metadata": {},
   "outputs": [],
   "source": [
    "regr_3 = DecisionTreeRegressor(max_depth=30)"
   ]
  },
  {
   "cell_type": "code",
   "execution_count": 90,
   "metadata": {},
   "outputs": [],
   "source": [
    "MAE = []\n",
    "start_time = time.time()\n",
    "#K-Fold Cross Validation\n",
    "for train_index, test_index in kf.split(x):\n",
    "    x_train, x_test = x[train_index], x[test_index]\n",
    "    y_train, y_test = y[train_index], y[test_index]\n",
    "    #Fit model on each fold\n",
    "    regr_3.fit(x_train, y_train)\n",
    "    #Predict on testing fold\n",
    "    predict = regr_3.predict(x_test)\n",
    "    predict = predict.reshape(len(predict),1)\n",
    "    #Mean Absolute Error between prediction and true value for each K-Fold Validation\n",
    "    MAE.append(np.sum(abs(y_test - predict))/len(y_test))\n",
    "elapsed_time = time.time() - start_time"
   ]
  },
  {
   "cell_type": "code",
   "execution_count": 91,
   "metadata": {},
   "outputs": [
    {
     "name": "stdout",
     "output_type": "stream",
     "text": [
      "71.66402950912315\n"
     ]
    }
   ],
   "source": [
    "models.append(np.sum(MAE)/len(MAE))\n",
    "print(np.sum(MAE)/len(MAE))"
   ]
  },
  {
   "cell_type": "code",
   "execution_count": 92,
   "metadata": {},
   "outputs": [
    {
     "name": "stdout",
     "output_type": "stream",
     "text": [
      "0.16157150268554688\n"
     ]
    }
   ],
   "source": [
    "times.append(elapsed_time)\n",
    "print(elapsed_time)"
   ]
  },
  {
   "cell_type": "code",
   "execution_count": 93,
   "metadata": {},
   "outputs": [],
   "source": [
    "regr_4 = DecisionTreeRegressor(max_depth=35)"
   ]
  },
  {
   "cell_type": "code",
   "execution_count": 94,
   "metadata": {},
   "outputs": [],
   "source": [
    "MAE = []\n",
    "start_time = time.time()\n",
    "#K-Fold Cross Validation\n",
    "for train_index, test_index in kf.split(x):\n",
    "    x_train, x_test = x[train_index], x[test_index]\n",
    "    y_train, y_test = y[train_index], y[test_index]\n",
    "    #Fit model on each fold\n",
    "    regr_4.fit(x_train, y_train)\n",
    "    #Predict on testing fold\n",
    "    predict = regr_4.predict(x_test)\n",
    "    predict = predict.reshape(len(predict),1)\n",
    "    #Mean Absolute Error between prediction and true value for each K-Fold Validation\n",
    "    MAE.append(np.sum(abs(y_test - predict))/len(y_test))\n",
    "elapsed_time = time.time() - start_time"
   ]
  },
  {
   "cell_type": "code",
   "execution_count": 95,
   "metadata": {},
   "outputs": [
    {
     "name": "stdout",
     "output_type": "stream",
     "text": [
      "72.43925315054307\n"
     ]
    }
   ],
   "source": [
    "models.append(np.sum(MAE)/len(MAE))\n",
    "print(np.sum(MAE)/len(MAE))"
   ]
  },
  {
   "cell_type": "code",
   "execution_count": 96,
   "metadata": {},
   "outputs": [
    {
     "name": "stdout",
     "output_type": "stream",
     "text": [
      "0.16265010833740234\n"
     ]
    }
   ],
   "source": [
    "times.append(elapsed_time)\n",
    "print(elapsed_time)"
   ]
  },
  {
   "cell_type": "code",
   "execution_count": 97,
   "metadata": {},
   "outputs": [],
   "source": [
    "regr_5 = DecisionTreeRegressor(max_depth=40)"
   ]
  },
  {
   "cell_type": "code",
   "execution_count": 98,
   "metadata": {},
   "outputs": [],
   "source": [
    "MAE = []\n",
    "start_time = time.time()\n",
    "#K-Fold Cross Validation\n",
    "for train_index, test_index in kf.split(x):\n",
    "    x_train, x_test = x[train_index], x[test_index]\n",
    "    y_train, y_test = y[train_index], y[test_index]\n",
    "    #Fit model on each fold\n",
    "    regr_5.fit(x_train, y_train)\n",
    "    #Predict on testing fold\n",
    "    predict = regr_5.predict(x_test)\n",
    "    predict = predict.reshape(len(predict),1)\n",
    "    #Mean Absolute Error between prediction and true value for each K-Fold Validation\n",
    "    MAE.append(np.sum(abs(y_test - predict))/len(y_test))\n",
    "elapsed_time = time.time() - start_time"
   ]
  },
  {
   "cell_type": "code",
   "execution_count": 99,
   "metadata": {},
   "outputs": [
    {
     "name": "stdout",
     "output_type": "stream",
     "text": [
      "72.06570827127145\n"
     ]
    }
   ],
   "source": [
    "models.append(np.sum(MAE)/len(MAE))\n",
    "print(np.sum(MAE)/len(MAE))"
   ]
  },
  {
   "cell_type": "code",
   "execution_count": 100,
   "metadata": {},
   "outputs": [
    {
     "name": "stdout",
     "output_type": "stream",
     "text": [
      "0.16156435012817383\n"
     ]
    }
   ],
   "source": [
    "times.append(elapsed_time)\n",
    "print(elapsed_time)"
   ]
  },
  {
   "cell_type": "code",
   "execution_count": 101,
   "metadata": {},
   "outputs": [
    {
     "data": {
      "text/plain": [
       "[70.16195426731397,\n",
       " 71.42385314523035,\n",
       " 71.66402950912315,\n",
       " 72.43925315054307,\n",
       " 72.06570827127145]"
      ]
     },
     "execution_count": 101,
     "metadata": {},
     "output_type": "execute_result"
    }
   ],
   "source": [
    "models"
   ]
  },
  {
   "cell_type": "code",
   "execution_count": 102,
   "metadata": {},
   "outputs": [],
   "source": [
    "for i in range(len(times)):\n",
    "    times[i] = 100*times[i]"
   ]
  },
  {
   "cell_type": "code",
   "execution_count": 103,
   "metadata": {},
   "outputs": [
    {
     "data": {
      "text/plain": [
       "Text(0.5, 0, 'Maximum Tree Depth')"
      ]
     },
     "execution_count": 103,
     "metadata": {},
     "output_type": "execute_result"
    },
    {
     "data": {
      "image/png": "[encoded data removed]",
      "text/plain": [
       "<Figure size 432x288 with 1 Axes>"
      ]
     },
     "metadata": {
      "needs_background": "light"
     },
     "output_type": "display_data"
    }
   ],
   "source": [
    "import matplotlib.pyplot as plt\n",
    "plt.title('Decision Tree Run Time Vs. Maximum Depth')\n",
    "plt.plot([20,25,30,35,40],times)\n",
    "plt.ylabel('Run Time (S)')\n",
    "plt.xlabel('Maximum Tree Depth')"
   ]
  },
  {
   "cell_type": "code",
   "execution_count": 104,
   "metadata": {},
   "outputs": [],
   "source": [
    "final = DecisionTreeRegressor(max_depth=20)"
   ]
  },
  {
   "cell_type": "code",
   "execution_count": 105,
   "metadata": {},
   "outputs": [
    {
     "data": {
      "text/plain": [
       "DecisionTreeRegressor(criterion='mse', max_depth=20, max_features=None,\n",
       "                      max_leaf_nodes=None, min_impurity_decrease=0.0,\n",
       "                      min_impurity_split=None, min_samples_leaf=1,\n",
       "                      min_samples_split=2, min_weight_fraction_leaf=0.0,\n",
       "                      presort=False, random_state=None, splitter='best')"
      ]
     },
     "execution_count": 105,
     "metadata": {},
     "output_type": "execute_result"
    }
   ],
   "source": [
    "final.fit(x, y)"
   ]
  },
  {
   "cell_type": "code",
   "execution_count": 106,
   "metadata": {},
   "outputs": [],
   "source": [
    "y_1 = final.predict(x)\n",
    "y_1 = y_1.reshape(len(y_1),1)"
   ]
  },
  {
   "cell_type": "code",
   "execution_count": 107,
   "metadata": {},
   "outputs": [
    {
     "data": {
      "text/plain": [
       "9.415024278786278"
      ]
     },
     "execution_count": 107,
     "metadata": {},
     "output_type": "execute_result"
    }
   ],
   "source": [
    "np.sum(abs(y - y_1))/len(y)"
   ]
  },
  {
   "cell_type": "code",
   "execution_count": 108,
   "metadata": {},
   "outputs": [],
   "source": [
    "data = np.load(r'C:\\Users\\Vee\\Desktop\\HW01\\HW01\\Data\\dataB\\test.npy')\n",
    "submission = final.predict(data)\n",
    "submission = submission.reshape(len(submission),1)"
   ]
  },
  {
   "cell_type": "code",
   "execution_count": 110,
   "metadata": {},
   "outputs": [],
   "source": [
    "import csv\n",
    "ids = 1. + np.arange(submission.shape[0])[None].T\n",
    "kaggle_predictions = np.hstack((ids,submission))\n",
    "writer = csv.writer(open('submission.csv', 'w'))\n",
    "if submission.shape[1] == 1:\n",
    "    writer.writerow(['# id','Prediction'])\n",
    "elif submission.shape[1] == 2:\n",
    "    writer.writerow(['# id','Prediction1', 'Prediction2'])\n",
    "writer.writerows(kaggle_predictions)"
   ]
  }
 ],
 "metadata": {
  "kernelspec": {
   "display_name": "Python 3",
   "language": "python",
   "name": "python3"
  },
  "language_info": {
   "codemirror_mode": {
    "name": "ipython",
    "version": 3
   },
   "file_extension": ".py",
   "mimetype": "text/x-python",
   "name": "python",
   "nbconvert_exporter": "python",
   "pygments_lexer": "ipython3",
   "version": "3.7.4"
  }
 },
 "nbformat": 4,
 "nbformat_minor": 2
}
