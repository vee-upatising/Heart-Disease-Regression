{
 "cells": [
  {
   "cell_type": "code",
   "execution_count": 1,
   "metadata": {},
   "outputs": [],
   "source": [
    "import numpy as np\n",
    "import sklearn\n",
    "from sklearn.tree import DecisionTreeRegressor\n",
    "from sklearn.model_selection import KFold\n",
    "import time"
   ]
  },
  {
   "cell_type": "code",
   "execution_count": 2,
   "metadata": {},
   "outputs": [],
   "source": [
    "data = np.load(r'C:\\Users\\Vee\\Desktop\\HW01\\HW01\\Data\\dataB\\train.npy')"
   ]
  },
  {
   "cell_type": "code",
   "execution_count": 3,
   "metadata": {},
   "outputs": [
    {
     "data": {
      "text/plain": [
       "(5482, 8)"
      ]
     },
     "execution_count": 3,
     "metadata": {},
     "output_type": "execute_result"
    }
   ],
   "source": [
    "data.shape"
   ]
  },
  {
   "cell_type": "code",
   "execution_count": 4,
   "metadata": {},
   "outputs": [],
   "source": [
    "x = data[:,:7]"
   ]
  },
  {
   "cell_type": "code",
   "execution_count": 5,
   "metadata": {},
   "outputs": [
    {
     "data": {
      "text/plain": [
       "(5482, 7)"
      ]
     },
     "execution_count": 5,
     "metadata": {},
     "output_type": "execute_result"
    }
   ],
   "source": [
    "x.shape"
   ]
  },
  {
   "cell_type": "code",
   "execution_count": 6,
   "metadata": {},
   "outputs": [],
   "source": [
    "y = data[:,7:]"
   ]
  },
  {
   "cell_type": "code",
   "execution_count": 7,
   "metadata": {},
   "outputs": [
    {
     "data": {
      "text/plain": [
       "(5482, 1)"
      ]
     },
     "execution_count": 7,
     "metadata": {},
     "output_type": "execute_result"
    }
   ],
   "source": [
    "y.shape"
   ]
  },
  {
   "cell_type": "code",
   "execution_count": 8,
   "metadata": {},
   "outputs": [],
   "source": [
    "regr_1 = DecisionTreeRegressor(max_depth=3)"
   ]
  },
  {
   "cell_type": "code",
   "execution_count": 9,
   "metadata": {},
   "outputs": [],
   "source": [
    "kf = KFold(n_splits=5)"
   ]
  },
  {
   "cell_type": "code",
   "execution_count": 10,
   "metadata": {},
   "outputs": [],
   "source": [
    "times = []\n",
    "models = []"
   ]
  },
  {
   "cell_type": "code",
   "execution_count": 11,
   "metadata": {},
   "outputs": [],
   "source": [
    "MAE = []\n",
    "start_time = time.time()\n",
    "#K-Fold Cross Validation\n",
    "for train_index, test_index in kf.split(x):\n",
    "    x_train, x_test = x[train_index], x[test_index]\n",
    "    y_train, y_test = y[train_index], y[test_index]\n",
    "    #Fit model on each fold\n",
    "    regr_1.fit(x_train, y_train)\n",
    "    #Predict on testing fold\n",
    "    predict = regr_1.predict(x_test)\n",
    "    predict = predict.reshape(len(predict),1)\n",
    "    #Mean Absolute Error between prediction and true value for each K-Fold Validation\n",
    "    MAE.append(np.sum(abs(y_test - predict))/len(y_test))\n",
    "elapsed_time = time.time() - start_time"
   ]
  },
  {
   "cell_type": "code",
   "execution_count": 12,
   "metadata": {},
   "outputs": [
    {
     "name": "stdout",
     "output_type": "stream",
     "text": [
      "59.845915299548764\n"
     ]
    }
   ],
   "source": [
    "models.append(np.sum(MAE)/len(MAE))\n",
    "print(np.sum(MAE)/len(MAE))"
   ]
  },
  {
   "cell_type": "code",
   "execution_count": 13,
   "metadata": {},
   "outputs": [
    {
     "name": "stdout",
     "output_type": "stream",
     "text": [
      "0.04089045524597168\n"
     ]
    }
   ],
   "source": [
    "times.append(elapsed_time)\n",
    "print(elapsed_time)"
   ]
  },
  {
   "cell_type": "code",
   "execution_count": 14,
   "metadata": {},
   "outputs": [],
   "source": [
    "regr_2 = DecisionTreeRegressor(max_depth=6)"
   ]
  },
  {
   "cell_type": "code",
   "execution_count": 15,
   "metadata": {},
   "outputs": [],
   "source": [
    "MAE = []\n",
    "start_time = time.time()\n",
    "#K-Fold Cross Validation\n",
    "for train_index, test_index in kf.split(x):\n",
    "    x_train, x_test = x[train_index], x[test_index]\n",
    "    y_train, y_test = y[train_index], y[test_index]\n",
    "    #Fit model on each fold\n",
    "    regr_2.fit(x_train, y_train)\n",
    "    #Predict on testing fold\n",
    "    predict = regr_2.predict(x_test)\n",
    "    predict = predict.reshape(len(predict),1)\n",
    "    #Mean Absolute Error between prediction and true value for each K-Fold Validation\n",
    "    MAE.append(np.sum(abs(y_test - predict))/len(y_test))\n",
    "elapsed_time = time.time() - start_time"
   ]
  },
  {
   "cell_type": "code",
   "execution_count": 16,
   "metadata": {},
   "outputs": [
    {
     "name": "stdout",
     "output_type": "stream",
     "text": [
      "59.18437954438416\n"
     ]
    }
   ],
   "source": [
    "models.append(np.sum(MAE)/len(MAE))\n",
    "print(np.sum(MAE)/len(MAE))"
   ]
  },
  {
   "cell_type": "code",
   "execution_count": 17,
   "metadata": {},
   "outputs": [
    {
     "name": "stdout",
     "output_type": "stream",
     "text": [
      "0.06186318397521973\n"
     ]
    }
   ],
   "source": [
    "times.append(elapsed_time)\n",
    "print(elapsed_time)"
   ]
  },
  {
   "cell_type": "code",
   "execution_count": 18,
   "metadata": {},
   "outputs": [],
   "source": [
    "regr_3 = DecisionTreeRegressor(max_depth=9)"
   ]
  },
  {
   "cell_type": "code",
   "execution_count": 19,
   "metadata": {},
   "outputs": [],
   "source": [
    "MAE = []\n",
    "start_time = time.time()\n",
    "#K-Fold Cross Validation\n",
    "for train_index, test_index in kf.split(x):\n",
    "    x_train, x_test = x[train_index], x[test_index]\n",
    "    y_train, y_test = y[train_index], y[test_index]\n",
    "    #Fit model on each fold\n",
    "    regr_3.fit(x_train, y_train)\n",
    "    #Predict on testing fold\n",
    "    predict = regr_3.predict(x_test)\n",
    "    predict = predict.reshape(len(predict),1)\n",
    "    #Mean Absolute Error between prediction and true value for each K-Fold Validation\n",
    "    MAE.append(np.sum(abs(y_test - predict))/len(y_test))\n",
    "elapsed_time = time.time() - start_time"
   ]
  },
  {
   "cell_type": "code",
   "execution_count": 20,
   "metadata": {},
   "outputs": [
    {
     "name": "stdout",
     "output_type": "stream",
     "text": [
      "60.55236676046887\n"
     ]
    }
   ],
   "source": [
    "models.append(np.sum(MAE)/len(MAE))\n",
    "print(np.sum(MAE)/len(MAE))"
   ]
  },
  {
   "cell_type": "code",
   "execution_count": 21,
   "metadata": {},
   "outputs": [
    {
     "name": "stdout",
     "output_type": "stream",
     "text": [
      "0.0888223648071289\n"
     ]
    }
   ],
   "source": [
    "times.append(elapsed_time)\n",
    "print(elapsed_time)"
   ]
  },
  {
   "cell_type": "code",
   "execution_count": 22,
   "metadata": {},
   "outputs": [],
   "source": [
    "regr_4 = DecisionTreeRegressor(max_depth=12)"
   ]
  },
  {
   "cell_type": "code",
   "execution_count": 23,
   "metadata": {},
   "outputs": [],
   "source": [
    "MAE = []\n",
    "start_time = time.time()\n",
    "#K-Fold Cross Validation\n",
    "for train_index, test_index in kf.split(x):\n",
    "    x_train, x_test = x[train_index], x[test_index]\n",
    "    y_train, y_test = y[train_index], y[test_index]\n",
    "    #Fit model on each fold\n",
    "    regr_4.fit(x_train, y_train)\n",
    "    #Predict on testing fold\n",
    "    predict = regr_4.predict(x_test)\n",
    "    predict = predict.reshape(len(predict),1)\n",
    "    #Mean Absolute Error between prediction and true value for each K-Fold Validation\n",
    "    MAE.append(np.sum(abs(y_test - predict))/len(y_test))\n",
    "elapsed_time = time.time() - start_time"
   ]
  },
  {
   "cell_type": "code",
   "execution_count": 24,
   "metadata": {},
   "outputs": [
    {
     "name": "stdout",
     "output_type": "stream",
     "text": [
      "63.55427604290836\n"
     ]
    }
   ],
   "source": [
    "models.append(np.sum(MAE)/len(MAE))\n",
    "print(np.sum(MAE)/len(MAE))"
   ]
  },
  {
   "cell_type": "code",
   "execution_count": 25,
   "metadata": {},
   "outputs": [
    {
     "name": "stdout",
     "output_type": "stream",
     "text": [
      "0.10773324966430664\n"
     ]
    }
   ],
   "source": [
    "times.append(elapsed_time)\n",
    "print(elapsed_time)"
   ]
  },
  {
   "cell_type": "code",
   "execution_count": 26,
   "metadata": {},
   "outputs": [],
   "source": [
    "regr_5 = DecisionTreeRegressor(max_depth=15)"
   ]
  },
  {
   "cell_type": "code",
   "execution_count": 27,
   "metadata": {},
   "outputs": [],
   "source": [
    "MAE = []\n",
    "start_time = time.time()\n",
    "#K-Fold Cross Validation\n",
    "for train_index, test_index in kf.split(x):\n",
    "    x_train, x_test = x[train_index], x[test_index]\n",
    "    y_train, y_test = y[train_index], y[test_index]\n",
    "    #Fit model on each fold\n",
    "    regr_5.fit(x_train, y_train)\n",
    "    #Predict on testing fold\n",
    "    predict = regr_5.predict(x_test)\n",
    "    predict = predict.reshape(len(predict),1)\n",
    "    #Mean Absolute Error between prediction and true value for each K-Fold Validation\n",
    "    MAE.append(np.sum(abs(y_test - predict))/len(y_test))\n",
    "elapsed_time = time.time() - start_time"
   ]
  },
  {
   "cell_type": "code",
   "execution_count": 28,
   "metadata": {},
   "outputs": [
    {
     "name": "stdout",
     "output_type": "stream",
     "text": [
      "66.04822786997576\n"
     ]
    }
   ],
   "source": [
    "models.append(np.sum(MAE)/len(MAE))\n",
    "print(np.sum(MAE)/len(MAE))"
   ]
  },
  {
   "cell_type": "code",
   "execution_count": 29,
   "metadata": {},
   "outputs": [
    {
     "name": "stdout",
     "output_type": "stream",
     "text": [
      "0.12366914749145508\n"
     ]
    }
   ],
   "source": [
    "times.append(elapsed_time)\n",
    "print(elapsed_time)"
   ]
  },
  {
   "cell_type": "code",
   "execution_count": 30,
   "metadata": {},
   "outputs": [
    {
     "data": {
      "text/plain": [
       "[59.845915299548764,\n",
       " 59.18437954438416,\n",
       " 60.55236676046887,\n",
       " 63.55427604290836,\n",
       " 66.04822786997576]"
      ]
     },
     "execution_count": 30,
     "metadata": {},
     "output_type": "execute_result"
    }
   ],
   "source": [
    "models"
   ]
  },
  {
   "cell_type": "code",
   "execution_count": 31,
   "metadata": {},
   "outputs": [
    {
     "data": {
      "text/plain": [
       "[0.04089045524597168,\n",
       " 0.06186318397521973,\n",
       " 0.0888223648071289,\n",
       " 0.10773324966430664,\n",
       " 0.12366914749145508]"
      ]
     },
     "execution_count": 31,
     "metadata": {},
     "output_type": "execute_result"
    }
   ],
   "source": [
    "times"
   ]
  },
  {
   "cell_type": "code",
   "execution_count": 32,
   "metadata": {},
   "outputs": [],
   "source": [
    "final = DecisionTreeRegressor(max_depth=6)"
   ]
  },
  {
   "cell_type": "code",
   "execution_count": 33,
   "metadata": {},
   "outputs": [
    {
     "data": {
      "text/plain": [
       "DecisionTreeRegressor(criterion='mse', max_depth=6, max_features=None,\n",
       "                      max_leaf_nodes=None, min_impurity_decrease=0.0,\n",
       "                      min_impurity_split=None, min_samples_leaf=1,\n",
       "                      min_samples_split=2, min_weight_fraction_leaf=0.0,\n",
       "                      presort=False, random_state=None, splitter='best')"
      ]
     },
     "execution_count": 33,
     "metadata": {},
     "output_type": "execute_result"
    }
   ],
   "source": [
    "final.fit(x, y)"
   ]
  },
  {
   "cell_type": "code",
   "execution_count": 34,
   "metadata": {},
   "outputs": [],
   "source": [
    "y_1 = final.predict(x)\n",
    "y_1 = y_1.reshape(len(y_1),1)"
   ]
  },
  {
   "cell_type": "code",
   "execution_count": 35,
   "metadata": {},
   "outputs": [
    {
     "data": {
      "text/plain": [
       "53.69482435530766"
      ]
     },
     "execution_count": 35,
     "metadata": {},
     "output_type": "execute_result"
    }
   ],
   "source": [
    "np.sum(abs(y - y_1))/len(y)"
   ]
  },
  {
   "cell_type": "code",
   "execution_count": 36,
   "metadata": {},
   "outputs": [],
   "source": [
    "data = np.load(r'C:\\Users\\Vee\\Desktop\\HW01\\HW01\\Data\\dataB\\test.npy')\n",
    "submission = final.predict(data)\n",
    "submission = submission.reshape(len(submission),1)"
   ]
  },
  {
   "cell_type": "code",
   "execution_count": 38,
   "metadata": {},
   "outputs": [],
   "source": [
    "import csv\n",
    "ids = 1. + np.arange(submission.shape[0])[None].T\n",
    "kaggle_predictions = np.hstack((ids,submission))\n",
    "writer = csv.writer(open('submission.csv', 'w'))\n",
    "if submission.shape[1] == 1:\n",
    "    writer.writerow(['# id','Prediction'])\n",
    "elif submission.shape[1] == 2:\n",
    "    writer.writerow(['# id','Prediction1', 'Prediction2'])\n",
    "writer.writerows(kaggle_predictions)"
   ]
  }
 ],
 "metadata": {
  "kernelspec": {
   "display_name": "Python 3",
   "language": "python",
   "name": "python3"
  },
  "language_info": {
   "codemirror_mode": {
    "name": "ipython",
    "version": 3
   },
   "file_extension": ".py",
   "mimetype": "text/x-python",
   "name": "python",
   "nbconvert_exporter": "python",
   "pygments_lexer": "ipython3",
   "version": "3.7.3"
  }
 },
 "nbformat": 4,
 "nbformat_minor": 2
}
